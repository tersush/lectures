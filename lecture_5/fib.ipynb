{
  "nbformat": 4,
  "nbformat_minor": 0,
  "metadata": {
    "colab": {
      "provenance": []
    },
    "kernelspec": {
      "name": "python3",
      "display_name": "Python 3"
    },
    "language_info": {
      "name": "python"
    }
  },
  "cells": [
    {
      "cell_type": "code",
      "execution_count": 2,
      "metadata": {
        "colab": {
          "base_uri": "https://localhost:8080/"
        },
        "id": "h7bvkUorZw00",
        "outputId": "617faae9-2abd-44e6-a8bf-91166883e440"
      },
      "outputs": [
        {
          "output_type": "stream",
          "name": "stdout",
          "text": [
            "13\n",
            "[0, 1, 1, 2, 3, 5, 8, 13, 21, 34, 55, 89, 144]\n"
          ]
        }
      ],
      "source": [
        "\"\"\"создать рекурсивную функцию фибоначи, которая принимает целое число н\n",
        "и возвращает н-е число в последовательности фибоначи\n",
        "важно - при больших числах (больше 20)- программа будет тупить\n",
        "пока что это норма\"\"\"\n",
        "\n",
        "number = int(input())\n",
        "\n",
        "def fibonacci(number):\n",
        "    if number <=  0:\n",
        "        return []\n",
        "\n",
        "    elif number == 1:\n",
        "        return [0]\n",
        "\n",
        "    elif number == 2:\n",
        "        return [0,1]\n",
        "\n",
        "    list_fibonacci = [0,1]\n",
        "    fib_1 = 0\n",
        "    fib_2 = 1\n",
        "\n",
        "    for i in range(2,number):\n",
        "            fib_1, fib_2 = fib_2, fib_1 + fib_2\n",
        "            list_fibonacci.append(fib_2)\n",
        "    return list_fibonacci\n",
        "\n",
        "print(fibonacci(number))"
      ]
    }
  ]
}