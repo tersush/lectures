{
  "nbformat": 4,
  "nbformat_minor": 0,
  "metadata": {
    "colab": {
      "provenance": []
    },
    "kernelspec": {
      "name": "python3",
      "display_name": "Python 3"
    },
    "language_info": {
      "name": "python"
    }
  },
  "cells": [
    {
      "cell_type": "code",
      "execution_count": 1,
      "metadata": {
        "colab": {
          "base_uri": "https://localhost:8080/",
          "height": 52
        },
        "id": "b7ztORnpZFgo",
        "outputId": "b1454aec-622c-41bb-8916-c855319180db"
      },
      "outputs": [
        {
          "name": "stdout",
          "output_type": "stream",
          "text": [
            "Ксюша\n"
          ]
        },
        {
          "output_type": "display_data",
          "data": {
            "text/plain": [
              "Привет, \u001b[1;38;5;129mкСюШа\u001b[0m!\n"
            ],
            "text/html": [
              "<pre style=\"white-space:pre;overflow-x:auto;line-height:normal;font-family:Menlo,'DejaVu Sans Mono',consolas,'Courier New',monospace\">Привет, <span style=\"color: #af00ff; text-decoration-color: #af00ff; font-weight: bold\">кСюШа</span>!\n",
              "</pre>\n"
            ]
          },
          "metadata": {}
        }
      ],
      "source": [
        "name: str = input()\n",
        "def change_name(name: str):\n",
        "    name=name.lower()\n",
        "    list_name=list(name)\n",
        "    for i in range(len(list_name)):\n",
        "        if (i+1)%2==0:\n",
        "            list_name[i]=list_name[i].upper()\n",
        "        else:\n",
        "            list_name[i]=list_name[i]\n",
        "    return (\"\".join(list_name))\n",
        "change_name(name)\n",
        "\n",
        "from rich import print as rprint\n",
        "edited_name=change_name(name)\n",
        "def fancy(edited_name):\n",
        "    rprint(f'Привет, [bold purple]{edited_name}[/bold purple]!')\n",
        "fancy(edited_name)"
      ]
    }
  ]
}