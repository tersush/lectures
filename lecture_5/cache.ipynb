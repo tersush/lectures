{
  "nbformat": 4,
  "nbformat_minor": 0,
  "metadata": {
    "colab": {
      "provenance": []
    },
    "kernelspec": {
      "name": "python3",
      "display_name": "Python 3"
    },
    "language_info": {
      "name": "python"
    }
  },
  "cells": [
    {
      "cell_type": "code",
      "execution_count": 27,
      "metadata": {
        "colab": {
          "base_uri": "https://localhost:8080/"
        },
        "id": "EQbFZGYkgn2F",
        "outputId": "06d6383b-75d6-4725-c986-071702315ee7"
      },
      "outputs": [
        {
          "output_type": "stream",
          "name": "stdout",
          "text": [
            "70\n",
            "[0, 1, 1, 2, 3, 5, 8, 13, 21, 34, 55, 89, 144, 233, 377, 610, 987, 1597, 2584, 4181, 6765, 10946, 17711, 28657, 46368, 75025, 121393, 196418, 317811, 514229, 832040, 1346269, 2178309, 3524578, 5702887, 9227465, 14930352, 24157817, 39088169, 63245986, 102334155, 165580141, 267914296, 433494437, 701408733, 1134903170, 1836311903, 2971215073, 4807526976, 7778742049, 12586269025, 20365011074, 32951280099, 53316291173, 86267571272, 139583862445, 225851433717, 365435296162, 591286729879, 956722026041, 1548008755920, 2504730781961, 4052739537881, 6557470319842, 10610209857723, 17167680177565, 27777890035288, 44945570212853, 72723460248141, 117669030460994]\n",
            "68\n"
          ]
        }
      ],
      "source": [
        "number = int(input())\n",
        "\n",
        "MY_CACHE: dict[int, list[int]] = {}\n",
        "\n",
        "def fibonacci(number):\n",
        "    if number in MY_CACHE:\n",
        "        return MY_CACHE[number]\n",
        "    elif number <=  0:\n",
        "        return []\n",
        "\n",
        "    elif number == 1:\n",
        "        return [0]\n",
        "\n",
        "    elif number == 2:\n",
        "        return [0,1]\n",
        "\n",
        "    list_fibonacci = [0,1]\n",
        "    fib_1 = 0\n",
        "    fib_2 = 1\n",
        "\n",
        "    for i in range(2,number):\n",
        "            fib_1, fib_2 = fib_2, fib_1 + fib_2\n",
        "            list_fibonacci.append(fib_2)\n",
        "            MY_CACHE[number]= list_fibonacci\n",
        "    return list_fibonacci\n",
        "\n",
        "for i in range(70):\n",
        "    fibonacci(i)\n",
        "print(fibonacci(number))\n",
        "\n",
        "\n",
        "print(len(MY_CACHE))"
      ]
    }
  ]
}