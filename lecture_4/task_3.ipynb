{
  "nbformat": 4,
  "nbformat_minor": 0,
  "metadata": {
    "colab": {
      "provenance": []
    },
    "kernelspec": {
      "name": "python3",
      "display_name": "Python 3"
    },
    "language_info": {
      "name": "python"
    }
  },
  "cells": [
    {
      "cell_type": "code",
      "execution_count": 2,
      "metadata": {
        "colab": {
          "base_uri": "https://localhost:8080/"
        },
        "id": "d7ERWxBqYFv5",
        "outputId": "f87fd12c-a97f-416a-b86b-cbc14205e1f6"
      },
      "outputs": [
        {
          "output_type": "stream",
          "name": "stdout",
          "text": [
            "Введи степень, для которой тебе необходимо вывести коэффициенты:\n",
            "9\n",
            "          1\n",
            "         1 1\n",
            "        1 2 1\n",
            "       1 3 3 1\n",
            "      1 4 6 4 1\n",
            "     1 5 10 10 5 1\n",
            "    1 6 15 20 15 6 1\n",
            "   1 7 21 35 35 21 7 1\n",
            "  1 8 28 56 70 56 28 8 1\n",
            " 1 9 36 84 126 126 84 36 9 1\n"
          ]
        }
      ],
      "source": [
        "\"\"\" вывести треугольник паскаля до 9. чтобы было красиво\n",
        "\"\"\"\n",
        "print('Введи степень, для которой тебе необходимо вывести коэффициенты:')\n",
        "power_of: int = int(input())\n",
        "list_1=[1]\n",
        "print(\" \" *(int(power_of)+1) + \"1\")\n",
        "for i in range (power_of):\n",
        "    inner_act=[1]\n",
        "    for g in range(len(list_1)-1):\n",
        "        new_variable=list_1[g]+list_1[g+1]\n",
        "        inner_act.append(new_variable)\n",
        "    inner_act.append(1)\n",
        "    list_1=inner_act\n",
        "    print(\" \" *(int(power_of)-i) + \" \".join(map(str, inner_act)))"
      ]
    }
  ]
}