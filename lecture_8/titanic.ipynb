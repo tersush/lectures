{
 "cells": [
  {
   "cell_type": "code",
   "execution_count": 1,
   "id": "e1d24245",
   "metadata": {},
   "outputs": [],
   "source": [
    "import pandas as pd\n",
    "import plotly.express as px"
   ]
  },
  {
   "cell_type": "code",
   "execution_count": null,
   "id": "1c42d52d",
   "metadata": {},
   "outputs": [],
   "source": [
    "import titanic.csv "
   ]
  },
  {
   "cell_type": "code",
   "execution_count": null,
   "id": "36a6c0c0",
   "metadata": {},
   "outputs": [],
   "source": [
    "px.histogram"
   ]
  }
 ],
 "metadata": {
  "kernelspec": {
   "display_name": "lecture-8",
   "language": "python",
   "name": "python3"
  },
  "language_info": {
   "codemirror_mode": {
    "name": "ipython",
    "version": 3
   },
   "file_extension": ".py",
   "mimetype": "text/x-python",
   "name": "python",
   "nbconvert_exporter": "python",
   "pygments_lexer": "ipython3",
   "version": "3.12.3"
  }
 },
 "nbformat": 4,
 "nbformat_minor": 5
}
