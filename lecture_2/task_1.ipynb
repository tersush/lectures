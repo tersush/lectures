{
 "cells": [
  {
   "cell_type": "code",
   "execution_count": 5,
   "id": "4f3abdb6",
   "metadata": {},
   "outputs": [
    {
     "name": "stdout",
     "output_type": "stream",
     "text": [
      " Ой, кажется вы меня не поняли. До свидания!\n"
     ]
    }
   ],
   "source": [
    "desicion: str = input(\"Ты хотел бы сняться в кино?[Да/Нет]:\")\n",
    "if desicion. strip().lower()==\"нет\":\n",
    "    print('Ну, ладно тогда, бывай, друг.')\n",
    "elif desicion. strip().lower()==\"да\":\n",
    "    answer_1: str = input('О, круто, а кем ты бы хотел быть: Халком или Локи? [Халком/Локи]:')\n",
    "    if answer_1.strip().lower()==\"халком\":\n",
    "        print('Такая роль требует большой мышечной массы. Какой у тебя объем бицепса? [см]:')\n",
    "        muscle_volume: float=input()\n",
    "        if float(muscle_volume)>=60:\n",
    "            print('Ого, вот ты силач! Поздравляю, ты принят!')\n",
    "        elif 0<float(muscle_volume)<60:\n",
    "            print('Ой-ой, кажется тебе надо подкачаться.. Топай в качалку быстрее.')\n",
    "        else: print('Слушай, друг, кажется ты вообще ничего не понял, мы с дурачками не работаем. Пока.')\n",
    "    elif answer_1.strip().lower()==\"локи\":\n",
    "        answer_2: str = input('О, а кого ты любишь больше маму или папу? [Маму/Папу]:')\n",
    "        if answer_2.strip().lower()==\"маму\":\n",
    "            print(\"А вот ты сходи к папе, спроси теперь, кого он больше любит, тогда и поговорим.\")\n",
    "        elif answer_2.strip().lower()==\"папу\":\n",
    "            print(\"Молодец, тогда иди домой. Сначала разрешение у папы спроси на такие авантюры.\")\n",
    "        else: print('Слушай, я тебя спрашиваю конкретный вопрос, с конкретными вариантами ответа, а ты вообще ничего не понимаешь...')\n",
    "else: print(\" Ой, кажется вы меня не поняли. До свидания!\")"
   ]
  }
 ],
 "metadata": {
  "kernelspec": {
   "display_name": "jupyter_venv",
   "language": "python",
   "name": "python3"
  },
  "language_info": {
   "codemirror_mode": {
    "name": "ipython",
    "version": 3
   },
   "file_extension": ".py",
   "mimetype": "text/x-python",
   "name": "python",
   "nbconvert_exporter": "python",
   "pygments_lexer": "ipython3",
   "version": "3.12.3"
  }
 },
 "nbformat": 4,
 "nbformat_minor": 5
}
