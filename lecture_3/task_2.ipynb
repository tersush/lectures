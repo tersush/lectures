{
  "nbformat": 4,
  "nbformat_minor": 0,
  "metadata": {
    "colab": {
      "provenance": []
    },
    "kernelspec": {
      "name": "python3",
      "display_name": "Python 3"
    },
    "language_info": {
      "name": "python"
    }
  },
  "cells": [
    {
      "cell_type": "code",
      "execution_count": 1,
      "metadata": {
        "colab": {
          "base_uri": "https://localhost:8080/"
        },
        "id": "ZAIqLRo0WkiH",
        "outputId": "6f5d670a-ee61-458d-f99d-9196b07252b0"
      },
      "outputs": [
        {
          "output_type": "stream",
          "name": "stdout",
          "text": [
            "Давай сыграем в игру, загадай число и назови любой диапазон, в который это число входит. Если надоест, скажи: выход\n",
            "-1000\n",
            "1000\n",
            "Твое число больше или меньше 0 [если больше 1, меньше 0, равно =]?1\n",
            "Твое число больше или меньше 500[если больше 1, меньше 0, равно =]?0\n",
            "Твое число больше или меньше 249[если больше 1, меньше 0, равно =]?0\n",
            "Твое число больше или меньше 125[если больше 1, меньше 0, равно =]?0\n",
            "Твое число больше или меньше 63[если больше 1, меньше 0, равно =]?0\n",
            "Твое число больше или меньше 32[если больше 1, меньше 0, равно =]?1\n",
            "Твое число больше или меньше 48[если больше 1, меньше 0, равно =]?1\n",
            "Твое число больше или меньше 55[если больше 1, меньше 0, равно =]?1\n",
            "Твое число больше или меньше 59[если больше 1, меньше 0, равно =]?0\n",
            "Твое число больше или меньше 56[если больше 1, меньше 0, равно =]?=\n",
            "Твое число 56!\n"
          ]
        }
      ],
      "source": [
        "print(f\"Давай сыграем в игру, загадай число и назови любой диапазон, в который это число входит. Если надоест, скажи: выход\")\n",
        "array_beggining: int = input()\n",
        "array_end: int = input()\n",
        "median = (int(array_beggining)+int(array_end))//2\n",
        "user_input_1: str = input(f\"Твое число больше или меньше {median} [если больше 1, меньше 0, равно =]?\")\n",
        "while user_input_1!=\"=\":\n",
        "    if user_input_1==\"выход\":\n",
        "        break\n",
        "    while user_input_1==\"0\":\n",
        "        array_end=median\n",
        "        median = (int(array_beggining)+int(array_end))//2\n",
        "        user_input_1: str = input(f\"Твое число больше или меньше {median}[если больше 1, меньше 0, равно =]?\")\n",
        "        median+=1\n",
        "    while user_input_1==\"1\":\n",
        "        array_beggining=int(median)\n",
        "        median = (int(array_beggining)+int(array_end))//2\n",
        "        user_input_1: str = input(f\"Твое число больше или меньше {median}[если больше 1, меньше 0, равно =]?\")\n",
        "        median-=1\n",
        "if user_input_1 ==\"=\":\n",
        "    print(f\"Твое число {(int(array_beggining)+int(array_end))//2}!\")"
      ]
    }
  ]
}